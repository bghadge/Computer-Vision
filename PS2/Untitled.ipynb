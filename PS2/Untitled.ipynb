{
 "cells": [
  {
   "cell_type": "code",
   "execution_count": 53,
   "metadata": {},
   "outputs": [
    {
     "name": "stdout",
     "output_type": "stream",
     "text": [
      "[[ 2  4  6 16]\n",
      " [ 8 10 12 12]\n",
      " [ 2  4  6 16]\n",
      " [ 8 10 12 12]]\n"
     ]
    },
    {
     "data": {
      "text/plain": [
       "array([[ 2,  4,  6, 16],\n",
       "       [ 8, 10, 12, 12],\n",
       "       [ 2,  4,  6, 16],\n",
       "       [ 8, 10, 12, 12]])"
      ]
     },
     "execution_count": 53,
     "metadata": {},
     "output_type": "execute_result"
    }
   ],
   "source": [
    "import numpy as np\n",
    "\n",
    "p = np.array([[1,2,3,8],[4,5,6,6],[1,2,3,8],[4,5,6,6]])\n",
    "# print(p.shape)\n",
    "# p_new_shape = np.array([p.shape[0]/2,p.shape[1]/2],dtype=np.int16)\n",
    "# print(p_new_shape)\n",
    "# # i = np.resize(p,p_new_shape)\n",
    "# i = p[::2,::2]\n",
    "# print(i)\n",
    "\n",
    "# i = np.zeros(4)\n",
    "# for n in range(4):\n",
    "#     i[n] = n\n",
    "#     #img = gp[n]\n",
    "\n",
    "# i = np.zeros(2*p.shape)\n",
    "# i[::2,::2] = p\n",
    "# #for n,m in range(p.shape):\n",
    "# q = np.array([[100,99,88,77],[66,55,44,33],[22,11,98,97],[96,95,94,93]])\n",
    "# p=np.insert(p[0,:],1,q[0,0])\n",
    "# p=np.insert(p[0,:],3,q[0,1])\n",
    "# p=np.insert(p[1],0,q[1,0])\n",
    "# p=np.insert(p[1],2,q[1,1])\n",
    "# print(p)\n",
    "# rows = 2*p.shape[0]\n",
    "# columns = 2*p.shape[1]\n",
    "\n",
    "# q = np.zeros(2*p.shape[0])\n",
    "# # print(len(q))\n",
    "# q=p[::2,::2]\n",
    "# print(p)\n",
    "# print(q)\n",
    "q=2*p\n",
    "z=np.multiply(2,p)\n",
    "print(q)\n",
    "z"
   ]
  },
  {
   "cell_type": "code",
   "execution_count": null,
   "metadata": {},
   "outputs": [],
   "source": []
  },
  {
   "cell_type": "code",
   "execution_count": null,
   "metadata": {},
   "outputs": [],
   "source": [
    "\n",
    "\n",
    "\n",
    "\n",
    "\n",
    "\n",
    "\n",
    "\n",
    "\n",
    "\n",
    "\n"
   ]
  }
 ],
 "metadata": {
  "kernelspec": {
   "display_name": "Python 3",
   "language": "python",
   "name": "python3"
  },
  "language_info": {
   "codemirror_mode": {
    "name": "ipython",
    "version": 3
   },
   "file_extension": ".py",
   "mimetype": "text/x-python",
   "name": "python",
   "nbconvert_exporter": "python",
   "pygments_lexer": "ipython3",
   "version": "3.6.8"
  }
 },
 "nbformat": 4,
 "nbformat_minor": 4
}
