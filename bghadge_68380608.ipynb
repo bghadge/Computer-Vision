{
  "nbformat": 4,
  "nbformat_minor": 0,
  "metadata": {
    "colab": {
      "name": "First_change_bghadge_68380608 (1).ipynb",
      "provenance": [],
      "collapsed_sections": []
    },
    "kernelspec": {
      "name": "python3",
      "display_name": "Python 3"
    },
    "language_info": {
      "codemirror_mode": {
        "name": "ipython",
        "version": 3
      },
      "file_extension": ".py",
      "mimetype": "text/x-python",
      "name": "python",
      "nbconvert_exporter": "python",
      "pygments_lexer": "ipython3",
      "version": "3.6.8"
    },
    "accelerator": "GPU"
  },
  "cells": [
    {
      "cell_type": "markdown",
      "metadata": {
        "colab_type": "text",
        "id": "Uqh1kK1LeS2U"
      },
      "source": [
        "#EECS 504 PS3: Motion Magnification and Texture Synthesis\n",
        "\n",
        "Please provide the following information \n",
        "(e.g. Andrew Owens, ahowens):\n",
        "\n",
        "[Bhushan] [Ghadge], [bghadge]\n",
        "\n",
        "\n"
      ]
    },
    {
      "cell_type": "markdown",
      "metadata": {
        "colab_type": "text",
        "id": "Wug5j9jHeeAx"
      },
      "source": [
        "# Starting\n",
        "\n",
        "Run the following code to import the modules you'll need. After your finish the assignment, remember to run all cells and save the notebook to your local machine as a .ipynb file for Canvas submission."
      ]
    },
    {
      "cell_type": "code",
      "metadata": {
        "colab_type": "code",
        "id": "loxyYKR1ZBsG",
        "colab": {}
      },
      "source": [
        "%matplotlib inline\n",
        "import numpy as np\n",
        "from numpy.fft import fft2, ifft2, fftshift, ifftshift\n",
        "from numpy import angle, real\n",
        "from numpy import exp, abs, pi, sqrt\n",
        "import matplotlib.pyplot as plt\n",
        "import cv2\n",
        "import math\n",
        "\n",
        "import random\n",
        "import sys\n",
        "from scipy import ndimage\n",
        "\n",
        "# cv2.imshow does not work in Colab, we use cv2_imshow instead\n",
        "from google.colab.patches import cv2_imshow"
      ],
      "execution_count": 0,
      "outputs": []
    },
    {
      "cell_type": "code",
      "metadata": {
        "colab_type": "code",
        "id": "-O7p5RhASRaB",
        "colab": {}
      },
      "source": [
        "%%capture\n",
        "# download some images\n",
        "# should take a second to run\n",
        "\n",
        "# for motion magnification problem\n",
        "! wget -O bill.avi \"https://drive.google.com/uc?export=download&id=1QR2dCShn-fYYEvcAQ8J4mnIo_ISqrjc7\"\n",
        "\n",
        "# for texture synthesis problem\n",
        "! wget -O texture.jpg \"https://drive.google.com/uc?export=download&id=11IlTZNLwfYsXQt2L1GbKdNqcj6JNkQik\"\n",
        "! wget -O rings.jpg \"https://drive.google.com/uc?export=download&id=1fYtmQe_a40BWg1OU178SFbcU4KRZuphn\"\n",
        "! wget -O jigsaw.jpg \"https://drive.google.com/uc?export=download&id=1SlYUw6vT9_PNP8XNhQfAu36AtPJ-PMpk\""
      ],
      "execution_count": 0,
      "outputs": []
    },
    {
      "cell_type": "markdown",
      "metadata": {
        "colab_type": "text",
        "id": "RpV5DTNmaBDk"
      },
      "source": [
        "## **Problem 3.1 (a)**"
      ]
    },
    {
      "cell_type": "code",
      "metadata": {
        "colab_type": "code",
        "id": "ijhkAqcdZM3v",
        "colab": {}
      },
      "source": [
        "def imshow(im, cmap='gray'):\n",
        "    # clip image from 0-1\n",
        "    im = np.clip(im, 0, 1)\n",
        "    plt.imshow(im, cmap=cmap)"
      ],
      "execution_count": 0,
      "outputs": []
    },
    {
      "cell_type": "code",
      "metadata": {
        "colab_type": "code",
        "id": "Mo2f0-Y6ZQyf",
        "colab": {}
      },
      "source": [
        "# 9x9 images\n",
        "im_size = 9\n",
        "\n",
        "# we would like to magnify the change between im1 and im2 by 4x\n",
        "magnification_factor = 4;\n",
        "\n",
        "# horizontal movement from (0, 0) to (0, 1)\n",
        "im1 = np.zeros([im_size, im_size])\n",
        "im2 = np.zeros([im_size, im_size])\n",
        "im1[0,0] = 1\n",
        "im2[0,1] = 1\n",
        "\n",
        "ff1 = fftshift(fft2(im1))\n",
        "ff2 = fftshift(fft2(im2))"
      ],
      "execution_count": 0,
      "outputs": []
    },
    {
      "cell_type": "markdown",
      "metadata": {
        "colab_type": "text",
        "id": "USjr94uIXJ1Y"
      },
      "source": [
        "### This is a quick tutorial for those who are not familiar with complex numbers in python."
      ]
    },
    {
      "cell_type": "code",
      "metadata": {
        "colab_type": "code",
        "id": "KOZCXoSWZV2D",
        "outputId": "66963995-99fe-46d4-ff8e-f01dd0016f50",
        "colab": {
          "base_uri": "https://localhost:8080/",
          "height": 102
        }
      },
      "source": [
        "# create a complex number\n",
        "x = 1 + 1j\n",
        "print(\"x =\", x)\n",
        "print(\"x.real\", x.real, \"x.imag\", x.imag)\n",
        "\n",
        "# magnitude and phase of complex number\n",
        "mag = abs(x)\n",
        "phase = angle(x)\n",
        "\n",
        "print(\"Magnitude\", mag)\n",
        "print(\"Phase\", phase)\n",
        "\n",
        "# Euler's formula\n",
        "y = mag * exp(phase * 1j)\n",
        "print(\"y =\", y)"
      ],
      "execution_count": 5,
      "outputs": [
        {
          "output_type": "stream",
          "text": [
            "x = (1+1j)\n",
            "x.real 1.0 x.imag 1.0\n",
            "Magnitude 1.4142135623730951\n",
            "Phase 0.7853981633974483\n",
            "y = (1.0000000000000002+1j)\n"
          ],
          "name": "stdout"
        }
      ]
    },
    {
      "cell_type": "code",
      "metadata": {
        "colab_type": "code",
        "id": "uWusq5kFZSEw",
        "colab": {}
      },
      "source": [
        "def magnify_change(im1, im2, magnification_factor):\n",
        "    \n",
        "    # find phase shift in frequency domain\n",
        "    im1_dft = fft2(im1)\n",
        "    im2_dft = fft2(im2)\n",
        "    phase_shift = angle(im2_dft) - angle(im1_dft)\n",
        "    \n",
        "    # magnify the phase change in frequency domain \n",
        "    magnified_dft = abs(im1_dft) * exp((angle(im1_dft) + (magnification_factor * phase_shift))*1j)\n",
        "\n",
        "    # what does the magnified phase change cause in image space?\n",
        "    magnified = ifft2(magnified_dft).real\n",
        "    \n",
        "    return magnified"
      ],
      "execution_count": 0,
      "outputs": []
    },
    {
      "cell_type": "code",
      "metadata": {
        "colab_type": "code",
        "id": "YulC7V6nZW2u",
        "outputId": "355981a5-b074-4dbe-a581-04b3df4a3c9d",
        "colab": {
          "base_uri": "https://localhost:8080/",
          "height": 261
        }
      },
      "source": [
        "# magnify position change\n",
        "magnified = magnify_change(im1, im2, magnification_factor);\n",
        "\n",
        "plt.figure(figsize=(12,36))\n",
        "plt.subplot(131)\n",
        "imshow(im1); plt.title('im1');\n",
        "\n",
        "plt.subplot(132)\n",
        "imshow(im2); plt.title('im2');\n",
        "\n",
        "plt.subplot(133)\n",
        "imshow(magnified); plt.title('magnified');"
      ],
      "execution_count": 8,
      "outputs": [
        {
          "output_type": "display_data",
          "data": {
            "image/png": "[encoded data removed]",
            "text/plain": [
              "<Figure size 864x2592 with 3 Axes>"
            ]
          },
          "metadata": {
            "tags": []
          }
        }
      ]
    },
    {
      "cell_type": "markdown",
      "metadata": {
        "colab_type": "text",
        "id": "nQAF4he7Za_8"
      },
      "source": [
        "## **Problem 3.1 (b)**\n"
      ]
    },
    {
      "cell_type": "code",
      "metadata": {
        "colab_type": "code",
        "id": "1LPwI_TsZfDR",
        "outputId": "2a33a583-ca5a-4ec2-ec47-ecdcc05a1208",
        "colab": {
          "base_uri": "https://localhost:8080/"
        }
      },
      "source": [
        "# 9x9 images\n",
        "im_size = 9\n",
        "\n",
        "# we would like to magnify the change between im1 and im2 by 4x\n",
        "magnification_factor = 4\n",
        "\n",
        "# horizontal movement from (0, 0) to (0, 1)\n",
        "# additional vertical movement from (8, 8) to (7, 8)\n",
        "im1 = np.zeros([im_size, im_size])\n",
        "im2 = np.zeros([im_size, im_size])\n",
        "im1[0,0] = 1\n",
        "im2[0,1] = 1\n",
        "im1[8,8] = 1\n",
        "im2[7,8] = 1\n",
        "\n",
        "# magnify position change\n",
        "magnified = magnify_change(im1, im2, magnification_factor)\n",
        "\n",
        "\n",
        "plt.figure(figsize=(12,36))\n",
        "plt.subplot(131)\n",
        "imshow(im1); plt.title('im1');\n",
        "\n",
        "plt.subplot(132)\n",
        "imshow(im2); plt.title('im2');\n",
        "\n",
        "plt.subplot(133)\n",
        "imshow(magnified); plt.title('magnified');\n"
      ],
      "execution_count": 0,
      "outputs": [
        {
          "output_type": "display_data",
          "data": {
            "image/png": "[encoded data removed]",
            "text/plain": [
              "<Figure size 864x2592 with 3 Axes>"
            ]
          },
          "metadata": {
            "tags": []
          }
        }
      ]
    },
    {
      "cell_type": "markdown",
      "metadata": {
        "colab_type": "text",
        "id": "1ZGlgR0UtNLo"
      },
      "source": [
        "## **Q.3.1 (b) Answer**\n",
        "Question: Why 2 offsets were not properly magnified?\n",
        "Answer:\n",
        "There are 2 impulse signals in the image going in different directions. Phase shift of the image is not same as adding phase shift of both impulses. It is similar to the phase shift of a third signal produced by convolving two impulses. Hence, we separate out each signal to consider them separately in next problem."
      ]
    },
    {
      "cell_type": "markdown",
      "metadata": {
        "colab_type": "text",
        "id": "XyIt4H8MZnno"
      },
      "source": [
        "## **Problem 3.1 (c)**\n"
      ]
    },
    {
      "cell_type": "code",
      "metadata": {
        "colab_type": "code",
        "id": "NomQMElTZYiq",
        "outputId": "030462d4-3f65-4b05-ddbb-5fd160953613",
        "colab": {
          "base_uri": "https://localhost:8080/"
        }
      },
      "source": [
        "# 9x9 images\n",
        "im_size = 9\n",
        "\n",
        "# we would like to magnify the change between im1 and im2 by 4x\n",
        "magnification_factor = 4\n",
        "\n",
        "# width of our Gaussian window\n",
        "sigma = 2\n",
        "\n",
        "# horizontal movement from (0, 0) to (0, 1)\n",
        "# additional vertical movement from (8, 8) to (7, 8)\n",
        "im1 = np.zeros([im_size, im_size])\n",
        "im2 = np.zeros([im_size, im_size])\n",
        "im1[0,0] = 1\n",
        "im2[0,1] = 1\n",
        "im1[8,8] = 1\n",
        "im2[7,8] = 1\n",
        "\n",
        "# we will magnify windows of the image and aggregate the results\n",
        "magnified = np.zeros([im_size, im_size])\n",
        "\n",
        "# meshgrid for computing Gaussian window\n",
        "X, Y = np.meshgrid(np.arange(im_size), np.arange(im_size))\n",
        "\n",
        "for y in range(0, im_size, 2*sigma):\n",
        "    for x in range(0, im_size, 2*sigma):\n",
        "      d = np.sqrt((X-x)*(X-x) + (Y-y)*(Y-y))\n",
        "      gaussian_mask = np.exp(-( d**2 / ( 2.0 * sigma**2 ) ) )\n",
        "      window_magnified = magnify_change(np.multiply(im1,gaussian_mask), np.multiply(im2,gaussian_mask), magnification_factor)\n",
        "      magnified = magnified + window_magnified\n",
        "        \n",
        "plt.figure(figsize=(12,36))\n",
        "plt.subplot(131)\n",
        "imshow(im1); plt.title('im1');\n",
        "\n",
        "plt.subplot(132)\n",
        "imshow(im2); plt.title('im2');\n",
        "\n",
        "plt.subplot(133)\n",
        "imshow(magnified); plt.title('magnified')"
      ],
      "execution_count": 0,
      "outputs": [
        {
          "output_type": "execute_result",
          "data": {
            "text/plain": [
              "Text(0.5, 1.0, 'magnified')"
            ]
          },
          "metadata": {
            "tags": []
          },
          "execution_count": 10
        },
        {
          "output_type": "display_data",
          "data": {
            "image/png": "[encoded data removed]",
            "text/plain": [
              "<Figure size 864x2592 with 3 Axes>"
            ]
          },
          "metadata": {
            "tags": []
          }
        }
      ]
    },
    {
      "cell_type": "code",
      "metadata": {
        "colab_type": "code",
        "id": "UI8xpPbuGkF9",
        "colab": {}
      },
      "source": [
        ""
      ],
      "execution_count": 0,
      "outputs": []
    },
    {
      "cell_type": "markdown",
      "metadata": {
        "colab_type": "text",
        "id": "9Kzn223xZsN3"
      },
      "source": [
        "## **Problem 3.1 (d) - Motion Magnification**\n"
      ]
    },
    {
      "cell_type": "code",
      "metadata": {
        "colab_type": "code",
        "id": "0l47cx31ZvpO",
        "outputId": "4639016d-e670-481d-e8c1-d94c327129ba",
        "colab": {
          "base_uri": "https://localhost:8080/"
        }
      },
      "source": [
        "import numpy as np\n",
        "import cv2\n",
        "\n",
        "cap = cv2.VideoCapture('bill.avi')\n",
        "\n",
        "# list of video frames\n",
        "frames = []\n",
        "\n",
        "while(cap.isOpened()):\n",
        "    # read frame from the video\n",
        "    ret, frame = cap.read()\n",
        "    \n",
        "    if ret is False:\n",
        "        break\n",
        "\n",
        "    frame = cv2.resize(frame, (200, 200), interpolation=cv2.INTER_CUBIC)\n",
        "    frames.append(frame)\n",
        "\n",
        "cap.release()\n",
        "\n",
        "# scale frame to 0-1\n",
        "frames = np.array(frames) / 255.\n",
        "print(\"frames size:\", frames.shape, \"# (nb_frames, height, width, channel)\")\n",
        "\n",
        "# get height, width\n",
        "num_frames = frames.shape[0]\n",
        "height = frames.shape[1]\n",
        "width = frames.shape[2]"
      ],
      "execution_count": 0,
      "outputs": [
        {
          "output_type": "stream",
          "text": [
            "frames size: (60, 200, 200, 3) # (nb_frames, height, width, channel)\n"
          ],
          "name": "stdout"
        }
      ]
    },
    {
      "cell_type": "code",
      "metadata": {
        "colab_type": "code",
        "id": "RbB0d5fDZ1DQ",
        "outputId": "039d230b-85b8-40f4-f267-b8df1b5ec1ce",
        "colab": {
          "base_uri": "https://localhost:8080/"
        }
      },
      "source": [
        "# 10x magnification of motion\n",
        "magnification_factor = 10\n",
        "\n",
        "# width of Gaussian window\n",
        "sigma = 26\n",
        "\n",
        "# alpha for moving average\n",
        "alpha = 0.5\n",
        "\n",
        "# we will magnify windows of the video and aggregate the results\n",
        "magnified = np.zeros_like(frames)\n",
        "\n",
        "# meshgrid for computing Gaussian window\n",
        "X, Y = np.meshgrid(np.arange(width), np.arange(height))\n",
        "\n",
        "# iterate over windows of the frames\n",
        "x_range = list(range(0, width, 2*sigma))\n",
        "y_range = list(range(0, height, 2*sigma))\n",
        "num_windows = len(x_range) * len(y_range)\n",
        "window_index = 1\n",
        "\n",
        "for y in y_range:\n",
        "    for x in x_range:\n",
        "        for channel_index in range(3): # RGB channels\n",
        "            for frame_index in range(num_frames):\n",
        "                \n",
        "                # create windowed frames\n",
        "                d = np.sqrt((X-x)*(X-x) + (Y-y)*(Y-y))\n",
        "                gaussian_mask = np.exp(-( d**2 / ( 2.0 * sigma**2 ) ) )  #TODO5\n",
        "                windowed_frames = gaussian_mask * frames[frame_index,:,:,channel_index]\n",
        "            \n",
        "                # initialize moving average of phase for current window/channel\n",
        "                if frame_index == 0:\n",
        "                    window_average_phase = angle(fft2(windowed_frames))\n",
        "                \n",
        "                window_dft = fft2(windowed_frames)\n",
        "                \n",
        "                # compute phase shift and constrain to [-pi, pi] since\n",
        "                # angle space wraps around\n",
        "                window_phase_shift = angle(window_dft) - window_average_phase\n",
        "                window_phase_shift[window_phase_shift > pi] = window_phase_shift[window_phase_shift > pi] - 2 * pi\n",
        "                window_phase_shift[window_phase_shift < -pi] = window_phase_shift[window_phase_shift < -pi] + 2 * pi\n",
        "                \n",
        "                # magnify phase shift\n",
        "                window_magnified_phase = window_average_phase + (window_phase_shift * magnification_factor) #TODO6\n",
        "                 \n",
        "                # go back to image space\n",
        "                window_magnified_dft = abs(window_dft) * exp(window_magnified_phase*1j) #TODO7\n",
        "                window_magnified = abs(ifft2(window_magnified_dft))\n",
        "                \n",
        "                # update moving average\n",
        "                window_phase_unwrapped = window_average_phase + window_phase_shift\n",
        "                window_average_phase = alpha * window_average_phase + (1 - alpha) * window_phase_unwrapped\n",
        "                \n",
        "                # aggregate\n",
        "                magnified[frame_index,:,:,channel_index] = magnified[frame_index,:,:,channel_index] + window_magnified\n",
        "        \n",
        "        # print progress\n",
        "        print('{}/{}'.format(window_index, num_windows))\n",
        "        window_index += 1"
      ],
      "execution_count": 0,
      "outputs": [
        {
          "output_type": "stream",
          "text": [
            "1/16\n",
            "2/16\n",
            "3/16\n",
            "4/16\n",
            "5/16\n",
            "6/16\n",
            "7/16\n",
            "8/16\n",
            "9/16\n",
            "10/16\n",
            "11/16\n",
            "12/16\n",
            "13/16\n",
            "14/16\n",
            "15/16\n",
            "16/16\n"
          ],
          "name": "stdout"
        }
      ]
    },
    {
      "cell_type": "code",
      "metadata": {
        "colab_type": "code",
        "id": "T0LAo9tGZ3IL",
        "colab": {}
      },
      "source": [
        "outputs = magnified / np.max(magnified)\n",
        "for channel_index in range(3):\n",
        "    original_frame = frames[0,:,:,channel_index]\n",
        "    magnified_frame = outputs[0,:,:,channel_index]\n",
        "    scale = np.std(original_frame[:]) / np.std(magnified_frame[:])\n",
        "    original_mean = np.mean(original_frame[:])\n",
        "    magnified_mean = np.mean(magnified_frame[:])\n",
        "    outputs[:,:,:,channel_index] = magnified_mean + scale * (outputs[:,:,:,channel_index] - magnified_mean)\n",
        "\n",
        "outputs = np.clip(outputs, 0, 1)"
      ],
      "execution_count": 0,
      "outputs": []
    },
    {
      "cell_type": "code",
      "metadata": {
        "colab_type": "code",
        "id": "eGwdxkFrZ4K9",
        "colab": {}
      },
      "source": [
        "# create output video\n",
        "fourcc = cv2.VideoWriter_fourcc('M','J','P','G')\n",
        "# fourcc = cv2.VideoWriter_fourcc(*'XVID')\n",
        "out = cv2.VideoWriter('bill_magnified.avi',fourcc, 30.0, (height, width))\n",
        "\n",
        "for i in range(frames.shape[0]):\n",
        "    # scale the frame back to 0-255\n",
        "    frame = (np.clip(outputs[i], 0, 1) * 255).astype(np.uint8)\n",
        "    \n",
        "    # write frame to output video\n",
        "    out.write(frame)\n",
        "\n",
        "out.release()"
      ],
      "execution_count": 0,
      "outputs": []
    },
    {
      "cell_type": "code",
      "metadata": {
        "colab_type": "code",
        "id": "8QgaekEWZ6lE",
        "outputId": "ad13d32b-8468-4265-dff0-51b793fef75b",
        "colab": {
          "base_uri": "https://localhost:8080/"
        }
      },
      "source": [
        "# Only for colab downloading videos\n",
        "try:\n",
        "    from google.colab import files\n",
        "    files.download('bill_magnified.avi')\n",
        "except:\n",
        "    print(\"Only for google colab\")"
      ],
      "execution_count": 0,
      "outputs": [
        {
          "output_type": "stream",
          "text": [
            "Only for google colab\n"
          ],
          "name": "stdout"
        }
      ]
    },
    {
      "cell_type": "markdown",
      "metadata": {
        "colab_type": "text",
        "id": "NPrGFZZ-aGcx"
      },
      "source": [
        "## **Problem 3.2 - Texture Synthesis**\n",
        "\n",
        "Note that the functions provided below are templates. Feel free to add your own helper functions as needed.\n",
        "\n",
        "You can reference the pseudocode provided here:  https://people.eecs.berkeley.edu/~efros/research/NPS/alg.html."
      ]
    },
    {
      "cell_type": "markdown",
      "metadata": {
        "colab_type": "text",
        "id": "DxMJ7MolbtZa"
      },
      "source": [
        "### Find matches function"
      ]
    },
    {
      "cell_type": "code",
      "metadata": {
        "colab_type": "code",
        "id": "aay0xFu3b0rS",
        "colab": {}
      },
      "source": [
        "def find_matches(template, sample, gauss_mask):\n",
        "    ### parameters, as used by Efros and Leung\n",
        "    epsilon = 0.1\n",
        "    delta = 0.3\n",
        "    \n",
        "    #### TODO:\n",
        "    # valid_mask is a square mask of width window_size that is 1 where template is filled\n",
        "    valid_mask = (template[:,:,0] > 0.0).astype(int)\n",
        "    mask = np.multiply(gauss_mask, valid_mask)\n",
        "    mask = mask/mask.sum()\n",
        "\n",
        "    #### TODO:\n",
        "    # vectorized code that calculates SSD(template, sample)*mask for all patches\n",
        "    ssd_sum = np.zeros([sample.shape[0]-template.shape[0]+1, sample.shape[1]-template.shape[1]+1])\n",
        "    for i in range(sample.shape[0]-template.shape[0]+1):\n",
        "      for j in range(sample.shape[1]-template.shape[1]+1):\n",
        "        SSD = np.zeros_like(template)\n",
        "        dist0 = (template[:,:,0] - sample[i:i+template.shape[0],j:j+template.shape[1],0])**2\n",
        "        dist1 = (template[:,:,1] - sample[i:i+template.shape[0],j:j+template.shape[1],1])**2\n",
        "        dist2 = (template[:,:,2] - sample[i:i+template.shape[0],j:j+template.shape[1],2])**2\n",
        "        SSD[:,:,0] = dist0*mask\n",
        "        SSD[:,:,1] = dist1*mask\n",
        "        SSD[:,:,2] = dist2*mask\n",
        "        ssd_sum[i,j] = SSD.sum()\n",
        "\n",
        "    PixelList1 = np.argwhere(ssd_sum <= (np.min(ssd_sum)*(1+epsilon)))\n",
        "    PixelList2 = np.argwhere(ssd_sum <= delta)\n",
        "    # print('PixelList1.shape',PixelList1.shape)\n",
        "    # print('PixelList2.shape',PixelList2.shape)\n",
        "    \n",
        "    res = (PixelList1[:, None] == PixelList2).all(-1).any(-1)\n",
        "    # print(res)\n",
        "    # print('res.shape',res.shape)\n",
        "    \n",
        "    PixelList = PixelList1[res]\n",
        "\n",
        "    if len(PixelList) == 0:\n",
        "      PixelList = PixelList1\n",
        "    \n",
        "    PixelList = np.add((template.shape[0]-1)/2,PixelList)\n",
        "\n",
        "    return PixelList\n",
        "\n",
        "def synth_template(pixel,window_size, synth_img):\n",
        "  template = np.zeros([window_size,window_size,3])\n",
        "  \n",
        "  pixel = np.add((window_size-1)/2,pixel)   #changing the pixel according to the padded image\n",
        "  \n",
        "  synth_img = np.pad(synth_img, ( (int((window_size-1)/2),int((window_size-1)/2)), (int((window_size-1)/2),int((window_size-1)/2)), (0,0) ))\n",
        "  \n",
        "  for row,i in zip(range(int(pixel[0] - (window_size - 1)/2), int((pixel[0] + (window_size - 1)/2)+1)),range(template.shape[0])):\n",
        "    for col,j in zip(range(int((pixel[1] - (window_size - 1)/2)), int((pixel[1] + (window_size - 1)/2)+1)),range(template.shape[0])):\n",
        "      # print('template shape',template.shape)\n",
        "      # print('synthe shape',synth_img.shape)\n",
        "      template[i,j,:] = synth_img[row,col,:]    # : channels\n",
        "\n",
        "  return template"
      ],
      "execution_count": 0,
      "outputs": []
    },
    {
      "cell_type": "markdown",
      "metadata": {
        "colab_type": "text",
        "id": "dL_bp42ob1AT"
      },
      "source": [
        "### Synthesize texture function"
      ]
    },
    {
      "cell_type": "code",
      "metadata": {
        "colab_type": "code",
        "id": "EOOIwV57b-eT",
        "colab": {}
      },
      "source": [
        "def synth_texture(sample, window_size, out_size):\n",
        "    # normalize pixel intensity\n",
        "    sample = sample.astype(np.float64)\n",
        "    sample = sample / 255.0\n",
        "    seed_size = 3\n",
        "    [sheight, swidth, channels] = sample.shape\n",
        "    synth_img = np.zeros((*out_size, channels))\n",
        "\n",
        "    # initialization: pick a random 3x3 patch from sample and place in the middle of the synthesized image\n",
        "    rh = round(seed_size + np.random.uniform(0,1) * (sheight - 2 * seed_size))\n",
        "    rw = round(seed_size + np.random.uniform(0,1) * (swidth - 2 * seed_size))\n",
        "    center = [round(.5 * x) for x in out_size] # center\n",
        "    synth_img[center[0]: center[0] + seed_size, center[1]: center[1] + seed_size ,:] = sample[rh: rh + seed_size , rw: rw + seed_size,:]\n",
        "\n",
        "    # bitmap indicating filled pixels, the seed patch is initially filled\n",
        "    filled = np.zeros(out_size)\n",
        "    filled[center[0]: center[0] + seed_size , center[1]: center[1] + seed_size] = 1\n",
        "    num_filled = int(np.sum(filled))\n",
        "    n_pixels = out_size[0]*out_size[1]\n",
        "\n",
        "    # TODO\n",
        "    # intialize 2D zero-mean gaussian w/ variance = (window_size / 6.4)\n",
        "    sigma = window_size / 6.4\n",
        "    # mu = 0.0\n",
        "    \n",
        "    X, Y = np.meshgrid(np.arange(window_size), np.arange(window_size))\n",
        "    d = np.sqrt((X - ((window_size + 1)/2))*(X - ((window_size + 1)/2)) + (Y - ((window_size + 1)/2))*(Y - ((window_size + 1)/2)))\n",
        "    gauss_mask = np.exp(-( d**2 / ( 2.0 * sigma**2 ) ) )\n",
        "    \n",
        "    # main loop: repeat until all pixels are filled\n",
        "    next_p = n_pixels / 10\n",
        "    while(num_filled < n_pixels):\n",
        "        # report progress\n",
        "        if(num_filled > next_p):\n",
        "            print(round(100 * num_filled / n_pixels), '% complete')\n",
        "            next_p += n_pixels / 10\n",
        "\n",
        "        # print('filled numbers',num_filled)\n",
        "        # TODO:\n",
        "        # get list of unfilled pixels as (x, y) coordinates\n",
        "        # hint: use dilation and masking to efficiently find unfilled neighboring pixels\n",
        "        temp_mat = cv2.dilate(filled, np.ones((3,3),dtype=np.uint8)) - filled\n",
        "        pixel_list = np.argwhere(temp_mat == 1)\n",
        "\n",
        "        # TODO:\n",
        "        # (optional, but recommended) randomly permute and sort list of pixels decreasing number of filled neighbor pixels\n",
        "\n",
        "        # TODO:\n",
        "        # iterate over the list of pixels\n",
        "        for pixel in pixel_list:\n",
        "          # TODO:\n",
        "          # place window with center as (x, y) and use as template\n",
        "          # print('x',pixel[0])\n",
        "          # print('y',pixel[1])\n",
        "          template = synth_template(pixel,window_size, synth_img) #filled instead of synth img\n",
        "\n",
        "          # TODO:\n",
        "          # find the best matching windows from sample image\n",
        "          match_list = find_matches(template, sample, gauss_mask)\n",
        "          \n",
        "          # randomly sample one from best matches\n",
        "          # print('pixel_list:', match_list.shape)\n",
        "          match_index = np.random.choice(np.arange(match_list.shape[0]))\n",
        "          # print('match index',match_index)\n",
        "          match_location = match_list[match_index]\n",
        "          match_location = match_location.astype(int)\n",
        "          # print('match location',match_location)\n",
        "          match_pixel = np.zeros([1,1,3])\n",
        "          match_pixel = sample[match_location[0],match_location[1],:]\n",
        "          # print('match pixel',match_pixel)\n",
        "          synth_img[pixel[0],pixel[1],0] = match_pixel[0]\n",
        "          synth_img[pixel[0],pixel[1],1] = match_pixel[1]\n",
        "          synth_img[pixel[0],pixel[1],2] = match_pixel[2]\n",
        "          \n",
        "          # print('synth_img')\n",
        "          # cv2_imshow(synth_img*255)\n",
        "          filled[pixel[0],pixel[1]] = 1\n",
        "\n",
        "          pass\n",
        "        num_filled = int(np.sum(filled))\n",
        "        # print('end')\n",
        "    return synth_img*255"
      ],
      "execution_count": 0,
      "outputs": []
    },
    {
      "cell_type": "markdown",
      "metadata": {
        "colab_type": "text",
        "id": "ar9WGk44b_Aw"
      },
      "source": [
        "### Main function\n",
        "\n",
        "Run the texture synthesis algorithm to generate texture of new shape. "
      ]
    },
    {
      "cell_type": "code",
      "metadata": {
        "colab_type": "code",
        "id": "cE0a6bhJcBbp",
        "outputId": "bb0bfb1e-6839-4f29-941c-05934ee5a7fe",
        "colab": {
          "base_uri": "https://localhost:8080/",
          "height": 1000
        }
      },
      "source": [
        "# Texture synthesis on rings\n",
        "source = cv2.imread('rings.jpg')\n",
        "window_sizes = [5, 7, 13] \n",
        "out_size = [100, 100]\n",
        "\n",
        "print('Source Image')\n",
        "cv2_imshow(source)\n",
        "\n",
        "for w in window_sizes:\n",
        "  target = synth_texture(source, w, out_size)\n",
        "  print('Target Image')\n",
        "  cv2_imshow(target)\n",
        "\n",
        "w = 13\n",
        "\n",
        "# Texture synthesis on colored image\n",
        "source = cv2.imread('texture.jpg')\n",
        "print('Source Image')\n",
        "cv2_imshow(source)\n",
        "target = synth_texture(source, w, out_size)\n",
        "print('Target Image')\n",
        "cv2_imshow(target)\n",
        "\n",
        "# # Don't need to submit this one\n",
        "# source = cv2.imread('jigsaw.jpg')\n",
        "# print('Source Image')\n",
        "# cv2_imshow(source)\n",
        "# target = synth_texture(source, w, out_size)\n",
        "# print('Target Image')\n",
        "# cv2_imshow(target)"
      ],
      "execution_count": 28,
      "outputs": [
        {
          "output_type": "stream",
          "text": [
            "Source Image\n"
          ],
          "name": "stdout"
        },
        {
          "output_type": "display_data",
          "data": {
            "image/png": "[encoded data removed]",
            "text/plain": [
              "<PIL.Image.Image image mode=RGB size=34x34 at 0x7FD80FA767F0>"
            ]
          },
          "metadata": {
            "tags": []
          }
        },
        {
          "output_type": "stream",
          "text": [
            "11 % complete\n",
            "20 % complete\n",
            "30 % complete\n",
            "42 % complete\n",
            "50 % complete\n",
            "62 % complete\n",
            "72 % complete\n",
            "83 % complete\n",
            "90 % complete\n",
            "Target Image\n"
          ],
          "name": "stdout"
        },
        {
          "output_type": "display_data",
          "data": {
            "image/png": "[encoded data removed]",
            "text/plain": [
              "<PIL.Image.Image image mode=RGB size=100x100 at 0x7FD80FA76358>"
            ]
          },
          "metadata": {
            "tags": []
          }
        },
        {
          "output_type": "stream",
          "text": [
            "11 % complete\n",
            "20 % complete\n",
            "30 % complete\n",
            "42 % complete\n",
            "50 % complete\n",
            "62 % complete\n",
            "72 % complete\n",
            "83 % complete\n",
            "90 % complete\n",
            "Target Image\n"
          ],
          "name": "stdout"
        },
        {
          "output_type": "display_data",
          "data": {
            "image/png": "[encoded data removed]",
            "text/plain": [
              "<PIL.Image.Image image mode=RGB size=100x100 at 0x7FD80FA760B8>"
            ]
          },
          "metadata": {
            "tags": []
          }
        },
        {
          "output_type": "stream",
          "text": [
            "11 % complete\n",
            "20 % complete\n",
            "30 % complete\n",
            "42 % complete\n",
            "50 % complete\n",
            "62 % complete\n",
            "72 % complete\n",
            "83 % complete\n",
            "90 % complete\n",
            "Target Image\n"
          ],
          "name": "stdout"
        },
        {
          "output_type": "display_data",
          "data": {
            "image/png": "[encoded data removed]",
            "text/plain": [
              "<PIL.Image.Image image mode=RGB size=100x100 at 0x7FD80FA760B8>"
            ]
          },
          "metadata": {
            "tags": []
          }
        },
        {
          "output_type": "stream",
          "text": [
            "Source Image\n"
          ],
          "name": "stdout"
        },
        {
          "output_type": "display_data",
          "data": {
            "image/png": "[encoded data removed]",
            "text/plain": [
              "<PIL.Image.Image image mode=RGB size=68x68 at 0x7FD80FA760B8>"
            ]
          },
          "metadata": {
            "tags": []
          }
        },
        {
          "output_type": "stream",
          "text": [
            "11 % complete\n",
            "20 % complete\n",
            "30 % complete\n",
            "42 % complete\n",
            "50 % complete\n",
            "62 % complete\n",
            "72 % complete\n",
            "83 % complete\n",
            "90 % complete\n",
            "Target Image\n"
          ],
          "name": "stdout"
        },
        {
          "output_type": "display_data",
          "data": {
            "image/png": "[encoded data removed]",
            "text/plain": [
              "<PIL.Image.Image image mode=RGB size=100x100 at 0x7FD80FA760B8>"
            ]
          },
          "metadata": {
            "tags": []
          }
        }
      ]
    },
    {
      "cell_type": "markdown",
      "metadata": {
        "colab_type": "text",
        "id": "w426bgkIcpov"
      },
      "source": [
        "# **Q.3.2**\n",
        "For a\n",
        "given window size, if you re-run the algorithm with the same starting seed do you get the\n",
        "same result? Why or why not? Is this true for all window sizes? Also run your implementation\n",
        "using real color image texture.jpg and see how window size affects the performance.\n",
        "\n",
        "Answer:\n",
        "1. We do not get same result by re-running for the same window size. Because, we are randomly choosing the pixels out of a list of pixels that has a SSD less than the threshold.\n",
        "2. Yes, above statement is true for all window sizes. But the difference gets negligible at high window value.\n",
        "3. Large window creates more appropriate texture. Hence, I used **window size 13 for color image.**"
      ]
    }
  ]
}