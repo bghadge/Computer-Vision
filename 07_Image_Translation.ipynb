{
  "nbformat": 4,
  "nbformat_minor": 0,
  "metadata": {
    "colab": {
      "name": "07_Image_Translation.ipynb",
      "provenance": [],
      "collapsed_sections": [],
      "include_colab_link": true
    },
    "kernelspec": {
      "name": "python3",
      "display_name": "Python 3"
    },
    "accelerator": "GPU"
  },
  "cells": [
    {
      "cell_type": "markdown",
      "metadata": {
        "id": "view-in-github",
        "colab_type": "text"
      },
      "source": [
        "<a href=\"https://colab.research.google.com/github/bghadge/Computer-Vision/blob/master/07_Image_Translation.ipynb\" target=\"_parent\"><img src=\"https://colab.research.google.com/assets/colab-badge.svg\" alt=\"Open In Colab\"/></a>"
      ]
    },
    {
      "cell_type": "markdown",
      "metadata": {
        "id": "ix5dQS2rUMlu",
        "colab_type": "text"
      },
      "source": [
        "#EECS 504 PS7: Image Translation\n",
        "\n"
      ]
    },
    {
      "cell_type": "markdown",
      "metadata": {
        "id": "W_Cst4k4tuBc",
        "colab_type": "text"
      },
      "source": [
        "# Starting\n",
        "\n",
        "Run the following code to import the modules you'll need. After your finish the assignment, remember to run all cells and save the note book to your local machine as a .ipynb file for Canvas submission."
      ]
    },
    {
      "cell_type": "code",
      "metadata": {
        "id": "SHumIO-xt57H",
        "colab_type": "code",
        "outputId": "1a8c13e4-c0f7-42bc-832a-65f9294c8aa0",
        "colab": {
          "base_uri": "https://localhost:8080/",
          "height": 68
        }
      },
      "source": [
        "import pickle\n",
        "import numpy as np\n",
        "import matplotlib.pyplot as plt\n",
        "import os\n",
        "import time\n",
        "import itertools\n",
        "\n",
        "import torch\n",
        "import torchvision\n",
        "from torchvision import datasets, models, transforms\n",
        "import torch.nn as nn\n",
        "import torch.optim as optim\n",
        "from torch.autograd import Variable\n",
        "import torch.nn.functional as F\n",
        "\n",
        "print(\"PyTorch Version: \",torch.__version__)\n",
        "print(\"Torchvision Version: \",torchvision.__version__)\n",
        "# Detect if we have a GPU available\n",
        "device = torch.device(\"cuda:0\" if torch.cuda.is_available() else \"cpu\")\n",
        "if torch.cuda.is_available():\n",
        "    print(\"Using the GPU!\")\n",
        "else:\n",
        "    print(\"WARNING: Could not find GPU! Using CPU only. If you want to enable GPU, please to go Edit > Notebook Settings > Hardware Accelerator and select GPU.\")\n"
      ],
      "execution_count": 0,
      "outputs": [
        {
          "output_type": "stream",
          "text": [
            "PyTorch Version:  1.4.0\n",
            "Torchvision Version:  0.5.0\n",
            "Using the GPU!\n"
          ],
          "name": "stdout"
        }
      ]
    },
    {
      "cell_type": "markdown",
      "metadata": {
        "id": "apEPzDNtK0MC",
        "colab_type": "text"
      },
      "source": [
        "# Problem 7.1 pix2pix\n",
        "You will build pix2pix for image translation. Here is the website of pix2pix: https://phillipi.github.io/pix2pix/\n",
        "\n",
        "Read the paper and github repo to understand how it implement.\n",
        "\n",
        "In this question, you will need to:\n",
        "\n",
        "1. Contruct dataloaders for train/test datasets\n",
        "2. Build Generator and Discriminator\n",
        "3. Train pix2pix and visualize the result during training\n",
        "4. Plot the loss of generator/discriminator v.s. interation"
      ]
    },
    {
      "cell_type": "markdown",
      "metadata": {
        "id": "SXfumCQ21JoK",
        "colab_type": "text"
      },
      "source": [
        "## Step 0: Downloading the dataset.\n",
        "\n"
      ]
    },
    {
      "cell_type": "code",
      "metadata": {
        "id": "Q-ljfgMv9PHx",
        "colab_type": "code",
        "outputId": "de1028f8-4cbe-43fd-8797-19017a544294",
        "colab": {
          "base_uri": "https://localhost:8080/",
          "height": 204
        }
      },
      "source": [
        "# Download the CMP Facade Database\n",
        "# Note: Restarting the runtime won't remove the downloaded dataset. You only need to re-download the zip file if you lose connection to colab. \n",
        "!wget http://efrosgans.eecs.berkeley.edu/pix2pix/datasets/facades.tar.gz\n",
        "\n",
        "# Unzip the download dataset .zip file to your local colab dir\n",
        "!tar -xf facades.tar.gz"
      ],
      "execution_count": 0,
      "outputs": [
        {
          "output_type": "stream",
          "text": [
            "--2020-03-18 21:01:20--  http://efrosgans.eecs.berkeley.edu/pix2pix/datasets/facades.tar.gz\n",
            "Resolving efrosgans.eecs.berkeley.edu (efrosgans.eecs.berkeley.edu)... 128.32.189.73\n",
            "Connecting to efrosgans.eecs.berkeley.edu (efrosgans.eecs.berkeley.edu)|128.32.189.73|:80... connected.\n",
            "HTTP request sent, awaiting response... 200 OK\n",
            "Length: 30168306 (29M) [application/x-gzip]\n",
            "Saving to: ‘facades.tar.gz’\n",
            "\n",
            "facades.tar.gz      100%[===================>]  28.77M  2.37MB/s    in 38s     \n",
            "\n",
            "2020-03-18 21:01:59 (766 KB/s) - ‘facades.tar.gz’ saved [30168306/30168306]\n",
            "\n"
          ],
          "name": "stdout"
        }
      ]
    },
    {
      "cell_type": "markdown",
      "metadata": {
        "colab_type": "text",
        "id": "n6PC5SrISsem"
      },
      "source": [
        "## Step 1: Build dataloaders for train and test"
      ]
    },
    {
      "cell_type": "code",
      "metadata": {
        "id": "AJ26uk2RRvLh",
        "colab_type": "code",
        "colab": {}
      },
      "source": [
        "def load_data(path, subfolder, transform, batch_size, shuffle=True):\n",
        "    \"\"\"\n",
        "    Data loader.\n",
        "\n",
        "    Inputs:\n",
        "    - path: path of the data.\n",
        "    - subfolder: subfolder of the data.\n",
        "    - transform: data transformation.\n",
        "    - batch_size: the size of the batch\n",
        "    - shuffle: if true, shuffle the data\n",
        "\n",
        "    Outputs:\n",
        "    - torch Dataloader\n",
        "    \"\"\"\n",
        "\t\n",
        "    #Hint: Use torch.utils.data.DataLoader\n",
        "\n",
        "    # lib = path+'/'+subfolder+'/'\n",
        "    # print(lib)\n",
        "    data = torchvision.datasets.ImageFolder(path, transform=transform)\n",
        "    # data = torchvision.datasets.DatasetFolder(root = lib, extensions='.jpg', transform=None)\n",
        "    data.class_to_idx[subfolder]\n",
        "    dataloader = torch.utils.data.DataLoader(data, batch_size = batch_size, shuffle = shuffle)\n",
        "    return dataloader\n"
      ],
      "execution_count": 0,
      "outputs": []
    },
    {
      "cell_type": "code",
      "metadata": {
        "id": "joG0K0q_UyEn",
        "colab_type": "code",
        "colab": {}
      },
      "source": [
        "# data_loader\n",
        "transform = transforms.Compose([\n",
        "        transforms.ToTensor(),\n",
        "        transforms.Normalize(mean=(0.5, 0.5, 0.5), std=(0.5, 0.5, 0.5))\n",
        "])\n",
        "\n",
        "train_loader = load_data('./facades', 'train', transform, 1, shuffle=True)\n",
        "test_loader = load_data('./facades', 'val', transform, 10, shuffle=False)\n",
        "\n",
        "#Sample Output used for visualization\n",
        "test = test_loader.__iter__().__next__()[0]\n",
        "img_size = test.size()[2]\n",
        "fixed_y_ = test[:, :, :, 0:img_size]\n",
        "fixed_x_ = test[:, :, :, img_size:]"
      ],
      "execution_count": 0,
      "outputs": []
    },
    {
      "cell_type": "code",
      "metadata": {
        "id": "JIq84n7bdhcS",
        "colab_type": "code",
        "outputId": "b7ca85db-cff2-4031-fff8-f4234243c85f",
        "colab": {
          "base_uri": "https://localhost:8080/",
          "height": 219
        }
      },
      "source": [
        "# plot sample image\n",
        "example = train_loader.__iter__().__next__()[0][0].numpy().transpose((1, 2, 0))\n",
        "mean = np.array([0.5, 0.5, 0.5])\n",
        "std = np.array([0.5, 0.5, 0.5])\n",
        "example = std * example + mean\n",
        "plt.imshow(example)\n",
        "plt.show()"
      ],
      "execution_count": 0,
      "outputs": [
        {
          "output_type": "display_data",
          "data": {
            "image/png": "[encoded data removed]",
            "text/plain": [
              "<Figure size 432x288 with 1 Axes>"
            ]
          },
          "metadata": {
            "tags": []
          }
        }
      ]
    },
    {
      "cell_type": "markdown",
      "metadata": {
        "colab_type": "text",
        "id": "-LCzclOMWLfd"
      },
      "source": [
        "## Step 2: Build Generator and Discriminator\n",
        "Based on the paper, the architectures of network are as following:\n",
        "\n",
        "**Generator architectures:**\n",
        "\n",
        "U-net encoder:\n",
        "\n",
        "C64-C128-C256-C512-C512-C512-C512-C512\n",
        "\n",
        "U-net decoder:\n",
        "\n",
        "CD512-CD1024-CD1024-C1024-C1024-C512-C256-C128\n",
        "\n",
        "After the last layer in the decoder, a convolution is applied to map to the number of output channels, followed by a Tanh\n",
        "function. As an exception to the above notation, BatchNorm is not applied to the first C64 layer in the encoder.\n",
        "All ReLUs in the encoder are leaky, with slope 0.2, while\n",
        "ReLUs in the decoder are not leaky.\n",
        "\n",
        "**Discriminator architectures**\n",
        "\n",
        "The 70 × 70 discriminator architecture is:\n",
        "\n",
        "C64-C128-C256-C512\n",
        "\n",
        "After the last layer, a convolution is applied to map to\n",
        "a 1-dimensional output, followed by a Sigmoid function.\n",
        "As an exception to the above notation, BatchNorm is not\n",
        "applied to the first C64 layer. All ReLUs are leaky, with\n",
        "slope 0.2."
      ]
    },
    {
      "cell_type": "code",
      "metadata": {
        "id": "qs7EeuqLSy7D",
        "colab_type": "code",
        "colab": {}
      },
      "source": [
        "def normal_init(m, mean, std):\n",
        "    \"\"\"\n",
        "    Helper function. Initialize parameter with given mean and std.\n",
        "    \"\"\"\n",
        "    if isinstance(m, nn.ConvTranspose2d) or isinstance(m, nn.Conv2d):\n",
        "        \n",
        "        torch.nn.init.normal_(m, mean=mean, std=std)\n"
      ],
      "execution_count": 0,
      "outputs": []
    },
    {
      "cell_type": "code",
      "metadata": {
        "id": "guZPR-iceoSO",
        "colab_type": "code",
        "colab": {}
      },
      "source": [
        "def ck(in_nc, out, kernel=4, stride=2, pad=1, batchnorm = True):\n",
        "  if batchnorm:\n",
        "    e_module = nn.Sequential(\n",
        "                            nn.Conv2d(in_nc, out, kernel_size=(kernel, kernel), stride=(stride, stride), padding=(pad, pad)),\n",
        "                            nn.BatchNorm2d(out, eps=1e-05, momentum=0.1, affine=True, track_running_stats=True),\n",
        "                            nn.LeakyReLU(0.2),\n",
        "                          )\n",
        "  else:\n",
        "    e_module = nn.Sequential(\n",
        "                            nn.Conv2d(in_nc, out, kernel_size=(kernel, kernel), stride=(stride, stride), padding=(pad, pad)),\n",
        "                            nn.LeakyReLU(0.2),\n",
        "                          )\n",
        "\n",
        "  return e_module\n",
        "\n",
        "\n",
        "def cdk(in_nc, out, kernel=4, stride=2, pad=1, batchnorm = True, dropout = False):\n",
        "  if dropout:\n",
        "    d_module = nn.Sequential(\n",
        "                            nn.ConvTranspose2d(in_nc, out, kernel_size=(kernel, kernel), stride=(stride, stride), padding=(pad, pad)),\n",
        "                            nn.BatchNorm2d(out, eps=1e-05, momentum=0.1, affine=True, track_running_stats=True),\n",
        "                            nn.Dropout(p=0.5),\n",
        "                            nn.ReLU(),\n",
        "                          )\n",
        "  else:\n",
        "    d_module = nn.Sequential(\n",
        "                            nn.ConvTranspose2d(in_nc, out, kernel_size=(kernel, kernel), stride=(stride, stride), padding=(pad, pad)),\n",
        "                            nn.BatchNorm2d(out, eps=1e-05, momentum=0.1, affine=True, track_running_stats=True),\n",
        "                            nn.ReLU(),\n",
        "                          )\n",
        "  return d_module\n",
        "\n",
        "\n",
        "def final(in_nc, out):\n",
        "  f_module = nn.Sequential(\n",
        "                          nn.ConvTranspose2d(in_nc, out, 4, 2, padding=1),\n",
        "                          nn.Tanh(),\n",
        "                        )\n",
        "  return f_module"
      ],
      "execution_count": 0,
      "outputs": []
    },
    {
      "cell_type": "code",
      "metadata": {
        "id": "NbZ96MTNeSmY",
        "colab_type": "code",
        "colab": {}
      },
      "source": [
        "class generator(nn.Module):\n",
        "    # initializers\n",
        "    def __init__(self):\n",
        "        super(generator, self).__init__()\n",
        "        # Ck denote a Convolution-BatchNorm-ReLU\n",
        "        # CDk denotes a Convolution-BatchNormDropout-ReLU layer with a dropout rate of 50%.\n",
        "\n",
        "        # Encoder\n",
        "        self.en1 = ck(3, 64, batchnorm=False)\n",
        "        self.en2 = ck(64, 128)\n",
        "        self.en3 = ck(128, 256)\n",
        "        self.en4 = ck(256, 512)\n",
        "        self.en5 = ck(512, 512)\n",
        "        self.en6 = ck(512, 512)\n",
        "        self.en7 = ck(512, 512)\n",
        "        self.en8 = ck(512, 512, batchnorm=False)\n",
        "\n",
        "        # Decoder\n",
        "        self.de8 = cdk(512, 512, dropout=True)   # 512 from en8 ---->> 512\n",
        "        self.de7 = cdk(1024, 512, dropout=True)  # 512 of de8 + 512 of en7 (1024) ---->> 512\n",
        "        self.de6 = cdk(1024, 512, dropout=True)  # 512 of de7 + 512 of en6 (1024) ---->> 512\n",
        "        self.de5 = cdk(1024, 512)  # 512 of de6 + 512 of en5 (1024) ---->> 512\n",
        "        self.de4 = cdk(1024, 256)  # 512 of de5 + 512 of en4 (1024) ---->> 256\n",
        "        self.de3 = cdk(512, 128)   # 256 of de4 + 256 of en3 (512) ---->> 128\n",
        "        self.de2 = cdk(256, 64)    # 128 of de3 + 128 of en2 (256) ---->> 64\n",
        "        self.de1 = final(128, 3)    # 64 of de2 + 64 of en1 (128) ---->> 3\n",
        "\n",
        "    # weight_init\n",
        "    def weight_init(self, mean, std):\n",
        "        for m in self._modules:\n",
        "            normal_init(self._modules[m], mean, std)\n",
        "\n",
        "    # forward method\n",
        "    def forward(self, input):\n",
        "        en1_o = self.en1(input)\n",
        "        en2_o = self.en2(en1_o)\n",
        "        en3_o = self.en3(en2_o)\n",
        "        en4_o = self.en4(en3_o)\n",
        "        en5_o = self.en5(en4_o)\n",
        "        en6_o = self.en6(en5_o)\n",
        "        en7_o = self.en7(en6_o)\n",
        "        en8_o = self.en8(en7_o)\n",
        "\n",
        "        de8_o = self.de8(en8_o)\n",
        "        \n",
        "        de7_con = torch.cat((de8_o, en7_o),dim=1)\n",
        "        de7_o = self.de7(de7_con)\n",
        "\n",
        "        de6_con = torch.cat((de7_o, en6_o),dim=1)\n",
        "        de6_o = self.de6(de6_con)\n",
        "\n",
        "        de5_con = torch.cat((de6_o, en5_o),dim=1)\n",
        "        de5_o = self.de5(de5_con)\n",
        "\n",
        "        de4_con = torch.cat((de5_o, en4_o),dim=1)\n",
        "        de4_o = self.de4(de4_con)\n",
        "        \n",
        "        de3_con = torch.cat((de4_o, en3_o),dim=1)\n",
        "        de3_o = self.de3(de3_con)\n",
        "\n",
        "        de2_con = torch.cat((de3_o, en2_o),dim=1)\n",
        "        de2_o = self.de2(de2_con)\n",
        "\n",
        "        de1_con = torch.cat((de2_o, en1_o),dim=1)\n",
        "        de1_o = self.de1(de1_con)\n",
        "\n",
        "        return de1_o\n",
        "\n",
        "class discriminator(nn.Module):\n",
        "    # initializers\n",
        "    def __init__(self):\n",
        "        super(discriminator, self).__init__() \n",
        "        self.disc0 = ck(6, 64, batchnorm=False)\n",
        "        self.disc1 = ck(64,128)\n",
        "        self.disc2 = ck(128,256)\n",
        "        self.disc3 = ck(256,512)\n",
        "        self.disc4 = ck(512,1)\n",
        "        self.sigmoid = nn.Sigmoid()\n",
        "\n",
        "    # weight_init\n",
        "    def weight_init(self, mean, std):\n",
        "        for m in self._modules:\n",
        "            normal_init(self._modules[m], mean, std)\n",
        "\n",
        "    # forward method\n",
        "    def forward(self, input): #deleting label\n",
        "        in_1 = self.disc0(input)\n",
        "        in_2 = self.disc1(in_1)\n",
        "        in_3 = self.disc2(in_2)\n",
        "        in_4 = self.disc3(in_3)\n",
        "        in_5 = self.disc4(in_4)\n",
        "        x = self.sigmoid(in_5)\n",
        "        return x\n"
      ],
      "execution_count": 0,
      "outputs": []
    },
    {
      "cell_type": "markdown",
      "metadata": {
        "colab_type": "text",
        "id": "WpQyaM6KWLpR"
      },
      "source": [
        "## Step 3: Train\n",
        "\n",
        "In this section, complete the function train. \n",
        "Then train two model: one with only L1 loss, the other with c=100.\n",
        "\n"
      ]
    },
    {
      "cell_type": "code",
      "metadata": {
        "id": "499QpOZ9gAmp",
        "colab_type": "code",
        "colab": {}
      },
      "source": [
        "# Helper function for showing result.\n",
        "def process_image(img):\n",
        "    return (img.cpu().data.numpy().transpose(1, 2, 0) + 1) / 2\n",
        "\n",
        "def show_result(G, x_, y_, num_epoch):\n",
        "    predict_images = G(x_)\n",
        "\n",
        "    fig, ax = plt.subplots(x_.size()[0], 3, figsize=(10,30))\n",
        "\n",
        "    for i in range(x_.size()[0]):\n",
        "        ax[i, 0].get_xaxis().set_visible(False)\n",
        "        ax[i, 0].get_yaxis().set_visible(False)\n",
        "        ax[i, 1].get_xaxis().set_visible(False)\n",
        "        ax[i, 1].get_yaxis().set_visible(False)\n",
        "        ax[i, 2].get_xaxis().set_visible(False)\n",
        "        ax[i, 2].get_yaxis().set_visible(False)\n",
        "        ax[i, 0].cla()\n",
        "        ax[i, 0].imshow(process_image(x_[i]))\n",
        "        ax[i, 1].cla()\n",
        "        ax[i, 1].imshow(process_image(predict_images[i]))\n",
        "        ax[i, 2].cla()\n",
        "        ax[i, 2].imshow(process_image(y_[i]))\n",
        "    \n",
        "    plt.tight_layout()\n",
        "    label_epoch = 'Epoch {0}'.format(num_epoch)\n",
        "    fig.text(0.5, 0, label_epoch, ha='center')\n",
        "    label_input = 'Input'\n",
        "    fig.text(0.18, 1, label_input, ha='center')\n",
        "    label_output = 'Output'\n",
        "    fig.text(0.5, 1, label_output, ha='center')\n",
        "    label_truth = 'Ground truth'\n",
        "    fig.text(0.81, 1, label_truth, ha='center')\n",
        "\n",
        "    plt.show()\n",
        "\n",
        "# Helper function for counting number of trainable parameters.\n",
        "def count_params(model):\n",
        "    '''\n",
        "    Counts the number of trainable parameters in PyTorch.\n",
        "    Args:\n",
        "        model: PyTorch model.\n",
        "    Returns:\n",
        "        num_params: int, number of trainable parameters.\n",
        "    '''\n",
        "    num_params = sum([item.numel() for item in model.parameters() if item.requires_grad])\n",
        "    return num_params"
      ],
      "execution_count": 0,
      "outputs": []
    },
    {
      "cell_type": "code",
      "metadata": {
        "id": "XWBrYR5me8-q",
        "colab_type": "code",
        "colab": {}
      },
      "source": [
        "# Hint: you could use following loss to complete following function\n",
        "BCE_loss = nn.BCELoss().cuda()\n",
        "L1_loss = nn.L1Loss().cuda()\n",
        "\n",
        "def train(G, D, num_epochs = 20, only_L1 = False):\n",
        "    hist_D_losses = []\n",
        "    hist_G_losses = []\n",
        "    # Adam optimizer\n",
        "    G_optimizer = torch.optim.Adam(G.parameters(), lr=0.0002, betas=(0.5, 0.999))\n",
        "    D_optimizer = torch.optim.Adam(D.parameters(), lr=0.0002, betas=(0.5, 0.999))\n",
        "    \n",
        "    print('training start!')\n",
        "    start_time = time.time()\n",
        "    for epoch in range(num_epochs):\n",
        "        print('Start training epoch %d' % (epoch + 1))\n",
        "        D_losses = []\n",
        "        G_losses = []\n",
        "        epoch_start_time = time.time()\n",
        "        num_iter = 0\n",
        "        for x_, _ in train_loader:\n",
        "            \n",
        "            y_ = x_[:, :, :, 0:img_size]\n",
        "            x_ = x_[:, :, :, img_size:]\n",
        "                \n",
        "            x_, y_ = Variable(x_.cuda()), Variable(y_.cuda())\n",
        "            # train discriminator D\n",
        "            # set zero gradient\n",
        "            G_optimizer.zero_grad()\n",
        "            D_optimizer.zero_grad()\n",
        "            \n",
        "            # forward pass \n",
        "            # # generator\n",
        "            fake = G.forward(x_)\n",
        "            \n",
        "            # # discriminator first for fake image\n",
        "            fake_x = torch.cat((fake,x_),dim=1)\n",
        "            pred_fake = D.forward(fake_x.detach())\n",
        "            zeros = torch.zeros_like(pred_fake)\n",
        "\n",
        "            # # discriminator second for real image\n",
        "            real_x = torch.cat((y_,x_),dim=1)\n",
        "            pred_real = D.forward(real_x)\n",
        "            ones = torch.ones_like(pred_real)\n",
        "            \n",
        "            # discriminator loss\n",
        "            loss_D = 0.5 * (BCE_loss(pred_fake, zeros) + BCE_loss(pred_real, ones))\n",
        "\n",
        "            # update weights of discriminator\n",
        "            loss_D.backward(retain_graph=True)\n",
        "            \n",
        "            # stop\n",
        "            D_optimizer.step()\n",
        "    \n",
        "            D_losses.append(loss_D.item())\n",
        "            hist_D_losses.append(loss_D.item())\n",
        "\n",
        "            # train generator G\n",
        "            L1 = L1_loss(y_,fake)\n",
        "            GAN = BCE_loss(pred_fake, ones)\n",
        "            \n",
        "            if only_L1:\n",
        "                loss_G = L1\n",
        "            else:\n",
        "                loss_G = GAN + 100 * L1\n",
        "\n",
        "            loss_G.backward()\n",
        "            G_optimizer.step()\n",
        "\n",
        "            G_losses.append(loss_G.item())\n",
        "            hist_G_losses.append(loss_G.item())\n",
        "            num_iter += 1\n",
        "\n",
        "\n",
        "        epoch_end_time = time.time()\n",
        "        per_epoch_ptime = epoch_end_time - epoch_start_time\n",
        "\n",
        "        print('[%d/%d] - using time: %.2f' % ((epoch + 1), num_epochs, per_epoch_ptime))\n",
        "        print('loss of discriminator D: %.3f' % (torch.mean(torch.FloatTensor(D_losses))))\n",
        "        print('loss of generator G: %.3f' % (torch.mean(torch.FloatTensor(G_losses))))\n",
        "        print('Sample Image:')\n",
        "        show_result(G, Variable(fixed_x_.cuda(), volatile=True), fixed_y_, (epoch+1))\n",
        "\n",
        "    end_time = time.time()\n",
        "    total_ptime = end_time - start_time\n",
        "\n",
        "    return hist_D_losses, hist_G_losses\n",
        "\n"
      ],
      "execution_count": 0,
      "outputs": []
    },
    {
      "cell_type": "markdown",
      "metadata": {
        "id": "nZBlQBMnIm9q",
        "colab_type": "text"
      },
      "source": [
        "In this part, train your model with c=100 with at least 20 epoch."
      ]
    },
    {
      "cell_type": "code",
      "metadata": {
        "id": "RTJ_KtcSazpG",
        "colab_type": "code",
        "outputId": "e4864d88-c523-434e-91fa-f94c56328d17",
        "colab": {
          "base_uri": "https://localhost:8080/",
          "height": 1000
        }
      },
      "source": [
        "# Define network\n",
        "G_100 = generator()\n",
        "D_100 = discriminator()\n",
        "G_100.weight_init(mean=0.0, std=0.02)\n",
        "D_100.weight_init(mean=0.0, std=0.02)\n",
        "G_100.cuda()\n",
        "D_100.cuda()\n",
        "G_100.train()\n",
        "D_100.train()\n",
        "\n",
        "#Report the architectures of your network\n",
        "print(G_100)\n",
        "print('Number of trainable parameters {}'.format(count_params(G_100)))\n",
        "\n",
        "print(D_100)\n",
        "print('Number of trainable parameters {}'.format(count_params(D_100)))"
      ],
      "execution_count": 0,
      "outputs": [
        {
          "output_type": "stream",
          "text": [
            "generator(\n",
            "  (en1): Sequential(\n",
            "    (0): Conv2d(3, 64, kernel_size=(4, 4), stride=(2, 2), padding=(1, 1))\n",
            "    (1): LeakyReLU(negative_slope=0.2)\n",
            "  )\n",
            "  (en2): Sequential(\n",
            "    (0): Conv2d(64, 128, kernel_size=(4, 4), stride=(2, 2), padding=(1, 1))\n",
            "    (1): BatchNorm2d(128, eps=1e-05, momentum=0.1, affine=True, track_running_stats=True)\n",
            "    (2): LeakyReLU(negative_slope=0.2)\n",
            "  )\n",
            "  (en3): Sequential(\n",
            "    (0): Conv2d(128, 256, kernel_size=(4, 4), stride=(2, 2), padding=(1, 1))\n",
            "    (1): BatchNorm2d(256, eps=1e-05, momentum=0.1, affine=True, track_running_stats=True)\n",
            "    (2): LeakyReLU(negative_slope=0.2)\n",
            "  )\n",
            "  (en4): Sequential(\n",
            "    (0): Conv2d(256, 512, kernel_size=(4, 4), stride=(2, 2), padding=(1, 1))\n",
            "    (1): BatchNorm2d(512, eps=1e-05, momentum=0.1, affine=True, track_running_stats=True)\n",
            "    (2): LeakyReLU(negative_slope=0.2)\n",
            "  )\n",
            "  (en5): Sequential(\n",
            "    (0): Conv2d(512, 512, kernel_size=(4, 4), stride=(2, 2), padding=(1, 1))\n",
            "    (1): BatchNorm2d(512, eps=1e-05, momentum=0.1, affine=True, track_running_stats=True)\n",
            "    (2): LeakyReLU(negative_slope=0.2)\n",
            "  )\n",
            "  (en6): Sequential(\n",
            "    (0): Conv2d(512, 512, kernel_size=(4, 4), stride=(2, 2), padding=(1, 1))\n",
            "    (1): BatchNorm2d(512, eps=1e-05, momentum=0.1, affine=True, track_running_stats=True)\n",
            "    (2): LeakyReLU(negative_slope=0.2)\n",
            "  )\n",
            "  (en7): Sequential(\n",
            "    (0): Conv2d(512, 512, kernel_size=(4, 4), stride=(2, 2), padding=(1, 1))\n",
            "    (1): BatchNorm2d(512, eps=1e-05, momentum=0.1, affine=True, track_running_stats=True)\n",
            "    (2): LeakyReLU(negative_slope=0.2)\n",
            "  )\n",
            "  (en8): Sequential(\n",
            "    (0): Conv2d(512, 512, kernel_size=(4, 4), stride=(2, 2), padding=(1, 1))\n",
            "    (1): LeakyReLU(negative_slope=0.2)\n",
            "  )\n",
            "  (de8): Sequential(\n",
            "    (0): ConvTranspose2d(512, 512, kernel_size=(4, 4), stride=(2, 2), padding=(1, 1))\n",
            "    (1): BatchNorm2d(512, eps=1e-05, momentum=0.1, affine=True, track_running_stats=True)\n",
            "    (2): Dropout(p=0.5, inplace=False)\n",
            "    (3): ReLU()\n",
            "  )\n",
            "  (de7): Sequential(\n",
            "    (0): ConvTranspose2d(1024, 512, kernel_size=(4, 4), stride=(2, 2), padding=(1, 1))\n",
            "    (1): BatchNorm2d(512, eps=1e-05, momentum=0.1, affine=True, track_running_stats=True)\n",
            "    (2): Dropout(p=0.5, inplace=False)\n",
            "    (3): ReLU()\n",
            "  )\n",
            "  (de6): Sequential(\n",
            "    (0): ConvTranspose2d(1024, 512, kernel_size=(4, 4), stride=(2, 2), padding=(1, 1))\n",
            "    (1): BatchNorm2d(512, eps=1e-05, momentum=0.1, affine=True, track_running_stats=True)\n",
            "    (2): Dropout(p=0.5, inplace=False)\n",
            "    (3): ReLU()\n",
            "  )\n",
            "  (de5): Sequential(\n",
            "    (0): ConvTranspose2d(1024, 512, kernel_size=(4, 4), stride=(2, 2), padding=(1, 1))\n",
            "    (1): BatchNorm2d(512, eps=1e-05, momentum=0.1, affine=True, track_running_stats=True)\n",
            "    (2): ReLU()\n",
            "  )\n",
            "  (de4): Sequential(\n",
            "    (0): ConvTranspose2d(1024, 256, kernel_size=(4, 4), stride=(2, 2), padding=(1, 1))\n",
            "    (1): BatchNorm2d(256, eps=1e-05, momentum=0.1, affine=True, track_running_stats=True)\n",
            "    (2): ReLU()\n",
            "  )\n",
            "  (de3): Sequential(\n",
            "    (0): ConvTranspose2d(512, 128, kernel_size=(4, 4), stride=(2, 2), padding=(1, 1))\n",
            "    (1): BatchNorm2d(128, eps=1e-05, momentum=0.1, affine=True, track_running_stats=True)\n",
            "    (2): ReLU()\n",
            "  )\n",
            "  (de2): Sequential(\n",
            "    (0): ConvTranspose2d(256, 64, kernel_size=(4, 4), stride=(2, 2), padding=(1, 1))\n",
            "    (1): BatchNorm2d(64, eps=1e-05, momentum=0.1, affine=True, track_running_stats=True)\n",
            "    (2): ReLU()\n",
            "  )\n",
            "  (de1): Sequential(\n",
            "    (0): ConvTranspose2d(128, 3, kernel_size=(4, 4), stride=(2, 2), padding=(1, 1))\n",
            "    (1): Tanh()\n",
            "  )\n",
            ")\n",
            "Number of trainable parameters 54419459\n",
            "discriminator(\n",
            "  (disc0): Sequential(\n",
            "    (0): Conv2d(6, 64, kernel_size=(4, 4), stride=(2, 2), padding=(1, 1))\n",
            "    (1): LeakyReLU(negative_slope=0.2)\n",
            "  )\n",
            "  (disc1): Sequential(\n",
            "    (0): Conv2d(64, 128, kernel_size=(4, 4), stride=(2, 2), padding=(1, 1))\n",
            "    (1): BatchNorm2d(128, eps=1e-05, momentum=0.1, affine=True, track_running_stats=True)\n",
            "    (2): LeakyReLU(negative_slope=0.2)\n",
            "  )\n",
            "  (disc2): Sequential(\n",
            "    (0): Conv2d(128, 256, kernel_size=(4, 4), stride=(2, 2), padding=(1, 1))\n",
            "    (1): BatchNorm2d(256, eps=1e-05, momentum=0.1, affine=True, track_running_stats=True)\n",
            "    (2): LeakyReLU(negative_slope=0.2)\n",
            "  )\n",
            "  (disc3): Sequential(\n",
            "    (0): Conv2d(256, 512, kernel_size=(4, 4), stride=(2, 2), padding=(1, 1))\n",
            "    (1): BatchNorm2d(512, eps=1e-05, momentum=0.1, affine=True, track_running_stats=True)\n",
            "    (2): LeakyReLU(negative_slope=0.2)\n",
            "  )\n",
            "  (disc4): Sequential(\n",
            "    (0): Conv2d(512, 1, kernel_size=(4, 4), stride=(2, 2), padding=(1, 1))\n",
            "    (1): BatchNorm2d(1, eps=1e-05, momentum=0.1, affine=True, track_running_stats=True)\n",
            "    (2): LeakyReLU(negative_slope=0.2)\n",
            "  )\n",
            "  (sigmoid): Sigmoid()\n",
            ")\n",
            "Number of trainable parameters 2769603\n"
          ],
          "name": "stdout"
        }
      ]
    },
    {
      "cell_type": "code",
      "metadata": {
        "id": "vwF9wX7GKPc5",
        "colab_type": "code",
        "colab": {}
      },
      "source": [
        "#training\n",
        "# TODO: change_num_epochs if you want\n",
        "hist_D_100_losses, hist_G_100_losses = train(G_100, D_100, num_epochs = 20, only_L1 = False)"
      ],
      "execution_count": 0,
      "outputs": []
    },
    {
      "cell_type": "markdown",
      "metadata": {
        "id": "aydAgn-WKZF3",
        "colab_type": "text"
      },
      "source": [
        "In this part, train your model with only L1 loss with at leat 10 epoch."
      ]
    },
    {
      "cell_type": "code",
      "metadata": {
        "id": "rWUlqRNoKj1w",
        "colab_type": "code",
        "colab": {}
      },
      "source": [
        "# Define network\n",
        "G_L1 = generator()\n",
        "D_L1 = discriminator()\n",
        "G_L1.weight_init(mean=0.0, std=0.02)\n",
        "D_L1.weight_init(mean=0.0, std=0.02)\n",
        "G_L1.cuda()\n",
        "D_L1.cuda()\n",
        "G_L1.train()\n",
        "D_L1.train()\n",
        "\n",
        "#training\n",
        "# TODO: change_num_epochs if you want\n",
        "hist_D_L1_losses, hist_G_L1_losses = train(G_L1, D_L1, num_epochs = 10, only_L1 = True)"
      ],
      "execution_count": 0,
      "outputs": []
    },
    {
      "cell_type": "markdown",
      "metadata": {
        "colab_type": "text",
        "id": "ORVrlmSMWLxW"
      },
      "source": [
        "## Step 4: Visualization\n",
        "In this section, plot the G/D loss history v.s. Iteration of model with c=100 in seperate plot.\n"
      ]
    },
    {
      "cell_type": "code",
      "metadata": {
        "id": "9P8ijcdHghg5",
        "colab_type": "code",
        "outputId": "2d3272bd-0cf0-41fa-cae1-dd3fbeabfc91",
        "colab": {
          "base_uri": "https://localhost:8080/",
          "height": 295
        }
      },
      "source": [
        "# plot the G/D loss history v.s. Iteration in one plot\n",
        "# hist_D_100_losses, hist_G_100_losses\n",
        "\n",
        "# print(len(hist_G_100_losses))\n",
        "# print(len(hist_D_100_losses)) 12120\n",
        "x = np.arange(12120)\n",
        "\n",
        "hist_G_100_losses = np.array(hist_G_100_losses)\n",
        "hist_D_100_losses = np.array(hist_D_100_losses)\n",
        "\n",
        "y = np.divide(hist_G_100_losses,hist_D_100_losses)\n",
        "plt.figure()\n",
        "# plt.plot(x, hist_G_100_losses)\n",
        "# plt.plot(x, hist_D_100_losses)\n",
        "plt.plot(x, y)\n",
        "# plt.legend(['Generator Loss', 'Discriminator Loss'])\n",
        "plt.xticks(x)\n",
        "plt.xlabel('Iterations')\n",
        "plt.ylabel('Losses')\n",
        "plt.title('cGAN + L1 Losses')\n",
        "plt.show()\n"
      ],
      "execution_count": 0,
      "outputs": [
        {
          "output_type": "display_data",
          "data": {
            "image/png": "[encoded data removed]",
            "text/plain": [
              "<Figure size 432x288 with 1 Axes>"
            ]
          },
          "metadata": {
            "tags": []
          }
        }
      ]
    },
    {
      "cell_type": "markdown",
      "metadata": {
        "id": "l3nD6TehLjFm",
        "colab_type": "text"
      },
      "source": [
        "In this section, plot the G/D loss history v.s. Iteration of model with only L1 loss in seperate plot."
      ]
    },
    {
      "cell_type": "code",
      "metadata": {
        "id": "xxGZAwIOLezc",
        "colab_type": "code",
        "outputId": "645f6ae9-cfe1-493c-c05a-fa3de2a34fb4",
        "colab": {
          "base_uri": "https://localhost:8080/",
          "height": 295
        }
      },
      "source": [
        "# plot the G/D loss history v.s. Iteration in one plot\n",
        "# hist_D_L1_losses, hist_G_L1_losses\n",
        "\n",
        "x = np.arange(6060)\n",
        "\n",
        "hist_G_L1_losses = np.array(hist_G_L1_losses)\n",
        "hist_D_L1_losses = np.array(hist_D_L1_losses)\n",
        "\n",
        "y = np.divide(hist_G_L1_losses,hist_D_L1_losses)*100\n",
        "\n",
        "plt.figure()\n",
        "# plt.plot(x, hist_G_L1_losses)\n",
        "# plt.plot(x, hist_D_L1_losses)\n",
        "plt.plot(x,y)\n",
        "# plt.legend(['Generator Loss', 'Discriminator Loss'])\n",
        "plt.xticks(x)\n",
        "plt.xlabel('Iterations')\n",
        "plt.ylabel('Losses')\n",
        "plt.title('L1 Losses')\n",
        "plt.show()\n"
      ],
      "execution_count": 0,
      "outputs": [
        {
          "output_type": "display_data",
          "data": {
            "image/png": "[encoded data removed]",
            "text/plain": [
              "<Figure size 432x288 with 1 Axes>"
            ]
          },
          "metadata": {
            "tags": []
          }
        }
      ]
    }
  ]
}